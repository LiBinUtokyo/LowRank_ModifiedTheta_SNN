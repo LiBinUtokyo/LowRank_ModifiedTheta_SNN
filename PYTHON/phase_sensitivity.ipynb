{
 "cells": [
  {
   "cell_type": "markdown",
   "metadata": {},
   "source": [
    "### This is to study the relationship between phase in oscilation and performance\n"
   ]
  },
  {
   "cell_type": "code",
   "execution_count": 1,
   "metadata": {},
   "outputs": [],
   "source": [
    "# import necessary libraries\n",
    "import torch\n",
    "import numpy as np\n",
    "import matplotlib.pyplot as plt\n",
    "import matplotlib.colors as mcolors\n",
    "\n",
    "from functions import Draw_Output, Draw_Conductance, Draw_RasterPlot, Draw_Voltage, Draw_Projection, show_mn, show_conn\n",
    "from functions import  save_model, load_config_yaml\n",
    "from functions import Generate_Vectors, Generate_RandomMatrix\n",
    "from lowranksnn import LowRankSNN\n",
    "plt.rcParams.update({'font.size': 30})  \n"
   ]
  },
  {
   "cell_type": "code",
   "execution_count": 24,
   "metadata": {},
   "outputs": [],
   "source": [
    "# Read the configuration file\n",
    "config = load_config_yaml('config_test.yaml')\n",
    "\n",
    "N_E = config['N_E']\n",
    "N_I = config['N_I']\n",
    "N = N_E + N_I\n",
    "P_EE = config['P_EE']\n",
    "P_EI = config['P_EI']\n",
    "P_IE = config['P_IE']\n",
    "P_II = config['P_II']\n",
    "factor_mn = config['factor_mn'] # 组合成conn时乘在lowrank matrix上的常數\n",
    "RS = config['RandomStrength'] # 组合成conn时乘在random matrix上的常數\n",
    "\n",
    "taud_E = config['taud_E']\n",
    "taud_I = config['taud_I']\n",
    "\n",
    "eta_E = config['eta_E']\n",
    "eta_I = config['eta_I']\n",
    "delta_E = config['delta_E']\n",
    "delta_I = config['delta_I']\n",
    "\n",
    "mu = config['mu']\n",
    "si = config['sigma']\n",
    "\n",
    "si_rand = config['sigma_rand']\n",
    "dt = config['dt'] #(ms/step)\n",
    "T_pre = config['T_pre'] # length of time before sti (ms)\n",
    "T_sti = config['T_sti'] # length of time for sti (ms)\n",
    "T_after = config['T_after'] # length of time after sti (ms)\n",
    "T = T_pre+T_sti+T_after # length of Period time (ms): 30ms\n",
    "\n",
    "IS = config['InputStrength'] #Input Strength (maybe chage to norm in the future)\n",
    "\n",
    "color_Go = config['color_Go']\n",
    "color_Nogo = config['color_Nogo']"
   ]
  },
  {
   "cell_type": "code",
   "execution_count": 25,
   "metadata": {},
   "outputs": [],
   "source": [
    "# Initialiazation\n",
    "LRSNN = LowRankSNN(N_E=N_E,N_I=N_I,taud_E=taud_E,taud_I=taud_I,RS=RS)\n",
    "\n",
    "# Go_NoGo Task\n",
    "# Prepare the Low Rank Connectivity (Rank = 1), Stimuli and Readout Vector\n",
    "m, n, Sti_nogo = Generate_Vectors(N, mu, si)\n",
    "m[N_E:] = 0\n",
    "n[N_E:] = 0\n",
    "Sti_nogo[N_E:] = 0\n",
    "Sti_go = n.clone()\n",
    "W_out = m.clone()\n",
    "\n",
    "W_rank1 = factor_mn*torch.ger(m.squeeze(), n.squeeze())\n",
    "conn_rand = Generate_RandomMatrix(N_E, N_I, P_EE, P_EI, P_IE, P_II, W_rank1, sigma = si_rand)\n"
   ]
  },
  {
   "cell_type": "code",
   "execution_count": 26,
   "metadata": {},
   "outputs": [
    {
     "name": "stdout",
     "output_type": "stream",
     "text": [
      "Low Rank connection and readout vector have been added.\n",
      "Random connection has been added.\n"
     ]
    }
   ],
   "source": [
    "# Assemble the Network\n",
    "LRSNN.add_lowrank(W_rank1, W_out)\n",
    "LRSNN.add_random(conn_rand)\n",
    "# # count the number of values outside the range of 0 and 1\n",
    "# print('Number of values outside the range of 0 and 1: ', torch.sum(LRSNN.conn>1)+torch.sum(LRSNN.conn<0))\n",
    "# # ratio of values outside the range of 0 and 1 to the total number of values\n",
    "# print('Ratio of values outside the range of 0 and 1 to the total number of values: ', (torch.sum(LRSNN.conn>1)+torch.sum(LRSNN.conn<0))/(N_E+N_I)**2)\n",
    "LRSNN.conn[LRSNN.conn>1] = 1\n",
    "LRSNN.conn[LRSNN.conn<0] = 0"
   ]
  },
  {
   "cell_type": "code",
   "execution_count": 34,
   "metadata": {},
   "outputs": [
    {
     "name": "stdout",
     "output_type": "stream",
     "text": [
      "Low-rank connectivity is added to all the connections\n",
      "Low-rank connectivity is added to all the connections\n",
      "Reaction Time:  10.0 ms\n"
     ]
    }
   ],
   "source": [
    "T_pre = 65\n",
    "T_sti = 10\n",
    "T_after = 10\n",
    "T = T_pre+T_sti+T_after # length of Period time (ms）\n",
    "\n",
    "Input_go = torch.zeros((LRSNN.N_E+LRSNN.N_I,int(T/dt))) #size:(N,time)\n",
    "Input_go[:,int(T_pre/dt):int((T_pre+T_sti)/dt)] = IS*Sti_go\n",
    "Input_nogo = torch.zeros((LRSNN.N_E+LRSNN.N_I,int(T/dt)))\n",
    "Input_nogo[:,int(T_pre/dt):int((T_pre+T_sti)/dt)] = IS*Sti_nogo\n",
    "\n",
    "# bias current\n",
    "bias = torch.zeros_like(Input_go)\n",
    "bias[:N_E,:] = (eta_E+delta_E*torch.tan(torch.tensor(np.pi*(np.arange(1,N_E+1)/(N_E+1)-1/2)))).unsqueeze(1)\n",
    "bias[N_E:,:] = (eta_I+delta_I*torch.tan(torch.tensor(np.pi*(np.arange(1,N_I+1)/(N_I+1)-1/2)))).unsqueeze(1)\n",
    "\n",
    "\n",
    "#将模型及相应属性移动到GPU\n",
    "device = torch.device('cuda:0')\n",
    "LRSNN = LRSNN.to(device)\n",
    "Input_go = Input_go.to(device)\n",
    "Input_nogo = Input_nogo.to(device)\n",
    "bias = bias.to(device)\n",
    "\n",
    "# Start Simulation\n",
    "Out_go, V_go, g_go, I_syn_go, spk_step_go, spk_ind_go = LRSNN(dt,Input_go+bias)\n",
    "Out_nogo, V_nogo, g_nogo, I_syn_nogo, spk_step_nogo, spk_ind_nogo = LRSNN(dt,Input_nogo+bias)\n",
    "\n",
    "g_go_EE = g_go[1]\n",
    "g_nogo_EE = g_nogo[1]\n",
    "\n",
    "# define the reaction time as performance\n",
    "# reaction time: 从施加刺激开始到输出不为0的时间（或者到go输出大于nogo输出的时间）\n",
    "# calculate the time when the output of go exceed the output of nogo\n",
    "difference = Out_go - Out_nogo\n",
    "exceed_time = torch.nonzero(difference.squeeze()>0)[0].item()*dt\n",
    "reaction_time = exceed_time-T_pre\n",
    "print('Reaction Time: ', reaction_time, 'ms')\n",
    "# prop = torch.max(Out_go)/torch.max(Out_nogo)\n",
    "# print('Performance: ', prop.item())\n"
   ]
  }
 ],
 "metadata": {
  "kernelspec": {
   "display_name": "lipy311",
   "language": "python",
   "name": "python3"
  },
  "language_info": {
   "codemirror_mode": {
    "name": "ipython",
    "version": 3
   },
   "file_extension": ".py",
   "mimetype": "text/x-python",
   "name": "python",
   "nbconvert_exporter": "python",
   "pygments_lexer": "ipython3",
   "version": "3.11.5"
  }
 },
 "nbformat": 4,
 "nbformat_minor": 2
}
