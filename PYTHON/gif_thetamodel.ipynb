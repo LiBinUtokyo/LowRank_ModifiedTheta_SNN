{
 "cells": [
  {
   "cell_type": "code",
   "execution_count": 1,
   "metadata": {},
   "outputs": [],
   "source": [
    "import numpy as np\n",
    "import matplotlib.pyplot as plt\n",
    "import imageio\n"
   ]
  },
  {
   "cell_type": "code",
   "execution_count": 21,
   "metadata": {},
   "outputs": [],
   "source": [
    "\n",
    "def fpstodur(fps):\n",
    "    dur = 1/fps*1000\n",
    "    return dur\n",
    "def theta2V(theta):\n",
    "    V_R = -62\n",
    "    V_T = -55\n",
    "    return (V_T+V_R)/2+(V_T-V_R)/2*np.tan(theta/2)\n",
    "path_gif = '/SanDisk/Li/LowRank_ModifiedTheta_SNN/PYTHON/gif_file/'\n",
    "# 定义生成每一帧的函数\n",
    "def generate_frame(t):\n",
    "    x = np.linspace(0, 2*np.pi, 100)\n",
    "    y = np.sin(x + np.pi * t)\n",
    "    plt.figure(figsize=(8, 6))\n",
    "    plt.plot(x, y)\n",
    "    plt.xlim(0, 2*np.pi)\n",
    "    plt.ylim(-1.5, 1.5)\n",
    "    return plt\n",
    "\n",
    "def generate_circle(angle):\n",
    "    if plt:\n",
    "        plt.close()\n",
    "    # 定义圆的参数\n",
    "    radius = 1  # 半径\n",
    "\n",
    "    # 准备绘图\n",
    "    fig, ax = plt.subplots(1,2)\n",
    "    # 绘制圆\n",
    "    circle = ax[0][0].Circle((0, 0), radius, color='blue', fill=False)\n",
    "    ax.add_artist(circle)\n",
    "    # 设置图像坐标轴的范围\n",
    "    ax.set_xlim(-1.1, 1.1)\n",
    "    ax.set_ylim(-1.1, 1.1)\n",
    "    # 保证横纵坐标比例一致，确保画出来的是一个圆而不是椭圆\n",
    "    ax.set_aspect('equal')\n",
    "\n",
    "    # 计算点的位置\n",
    "    x = radius * np.cos(angle)\n",
    "    y = radius * np.sin(angle)\n",
    "\n",
    "    # 绘制点\n",
    "    points, = ax[0][0].plot(x, y, 'ro')  # 'ro'表示红色圆点\n",
    "\n",
    "    #绘制电位\n",
    "    theta = np.linspace(-np.pi, np.pi, 300)\n",
    "    fig, ax = plt.subplots(1,2,2)\n",
    "    y = theta2V(theta)\n",
    "    V = theta2V(angle)\n",
    "    ax[0][1].plot(theta,y)\n",
    "    ax[0][1].plot(angle, V, 'ro')  # 'ro'表示红色圆点\n",
    "\n",
    "    return plt, points\n"
   ]
  },
  {
   "cell_type": "code",
   "execution_count": 22,
   "metadata": {},
   "outputs": [
    {
     "ename": "TypeError",
     "evalue": "subplots() takes from 0 to 2 positional arguments but 3 were given",
     "output_type": "error",
     "traceback": [
      "\u001b[0;31m---------------------------------------------------------------------------\u001b[0m",
      "\u001b[0;31mTypeError\u001b[0m                                 Traceback (most recent call last)",
      "Cell \u001b[0;32mIn[22], line 15\u001b[0m\n\u001b[1;32m     11\u001b[0m theta \u001b[38;5;241m=\u001b[39m np\u001b[38;5;241m.\u001b[39mlinspace(\u001b[38;5;241m0\u001b[39m, \u001b[38;5;241m2\u001b[39m\u001b[38;5;241m*\u001b[39mnp\u001b[38;5;241m.\u001b[39mpi, \u001b[38;5;241m60\u001b[39m)  \u001b[38;5;66;03m# 分成60个点来绘制圆\u001b[39;00m\n\u001b[1;32m     13\u001b[0m \u001b[38;5;28;01mfor\u001b[39;00m ind,angle \u001b[38;5;129;01min\u001b[39;00m \u001b[38;5;28menumerate\u001b[39m(theta):\n\u001b[1;32m     14\u001b[0m     \u001b[38;5;66;03m# print(angle)\u001b[39;00m\n\u001b[0;32m---> 15\u001b[0m     frame,points \u001b[38;5;241m=\u001b[39m generate_circle(angle)  \n\u001b[1;32m     16\u001b[0m     frame\u001b[38;5;241m.\u001b[39msavefig(\u001b[38;5;124mf\u001b[39m\u001b[38;5;124m'\u001b[39m\u001b[38;5;132;01m{\u001b[39;00mpath_gif\u001b[38;5;132;01m}\u001b[39;00m\u001b[38;5;124mframe_\u001b[39m\u001b[38;5;132;01m{\u001b[39;00mind\u001b[38;5;132;01m}\u001b[39;00m\u001b[38;5;124m.png\u001b[39m\u001b[38;5;124m'\u001b[39m)  \u001b[38;5;66;03m# 保存每一帧为PNG\u001b[39;00m\n\u001b[1;32m     17\u001b[0m     points\u001b[38;5;241m.\u001b[39mremove()\n",
      "Cell \u001b[0;32mIn[21], line 26\u001b[0m, in \u001b[0;36mgenerate_circle\u001b[0;34m(angle)\u001b[0m\n\u001b[1;32m     23\u001b[0m radius \u001b[38;5;241m=\u001b[39m \u001b[38;5;241m1\u001b[39m  \u001b[38;5;66;03m# 半径\u001b[39;00m\n\u001b[1;32m     25\u001b[0m \u001b[38;5;66;03m# 准备绘图\u001b[39;00m\n\u001b[0;32m---> 26\u001b[0m fig, ax \u001b[38;5;241m=\u001b[39m plt\u001b[38;5;241m.\u001b[39msubplots(\u001b[38;5;241m1\u001b[39m,\u001b[38;5;241m2\u001b[39m,\u001b[38;5;241m1\u001b[39m)\n\u001b[1;32m     27\u001b[0m \u001b[38;5;66;03m# 绘制圆\u001b[39;00m\n\u001b[1;32m     28\u001b[0m circle \u001b[38;5;241m=\u001b[39m plt\u001b[38;5;241m.\u001b[39mCircle((\u001b[38;5;241m0\u001b[39m, \u001b[38;5;241m0\u001b[39m), radius, color\u001b[38;5;241m=\u001b[39m\u001b[38;5;124m'\u001b[39m\u001b[38;5;124mblue\u001b[39m\u001b[38;5;124m'\u001b[39m, fill\u001b[38;5;241m=\u001b[39m\u001b[38;5;28;01mFalse\u001b[39;00m)\n",
      "\u001b[0;31mTypeError\u001b[0m: subplots() takes from 0 to 2 positional arguments but 3 were given"
     ]
    }
   ],
   "source": [
    "\n",
    "# 生成帧\n",
    "frames = []\n",
    "\n",
    "# for t in range(40):  # 生成30帧\n",
    "#     frame = generate_frame(t/10.0)  # t/10.0 使得正弦波有旋转的效果\n",
    "#     frame.savefig(f'{path_gif}frame_{t}.png')  # 保存每一帧为PNG\n",
    "#     plt.close()  # 关闭图形，避免显示\n",
    "#     frames.append(imageio.imread(f'{path_gif}frame_{t}.png'))  # 读取每一帧\n",
    "\n",
    "# 绘制圆上动点\n",
    "theta = np.linspace(0, 2*np.pi, 60)  # 分成60个点来绘制圆\n",
    "\n",
    "for ind,angle in enumerate(theta):\n",
    "    # print(angle)\n",
    "    frame,points = generate_circle(angle)  \n",
    "    frame.savefig(f'{path_gif}frame_{ind}.png')  # 保存每一帧为PNG\n",
    "    points.remove()\n",
    "    plt.close()  # 关闭图形，避免显示\n",
    "    frames.append(imageio.imread(f'{path_gif}frame_{ind}.png'))  # 读取每一帧"
   ]
  },
  {
   "cell_type": "code",
   "execution_count": 20,
   "metadata": {},
   "outputs": [],
   "source": [
    "\n",
    "# 保存为GIF\n",
    "imageio.mimwrite(f'{path_gif}sine_wave.gif', frames, duration=fpstodur(10),loop = 0)  # duration (in ms) fps = 1/(0.001*duration) \n",
    "# imageio.mimwrite(f'{path_gif}sine_wave.gif', frames, fps=10)  # duration (in ms)\n"
   ]
  }
 ],
 "metadata": {
  "kernelspec": {
   "display_name": "lipy311",
   "language": "python",
   "name": "python3"
  },
  "language_info": {
   "codemirror_mode": {
    "name": "ipython",
    "version": 3
   },
   "file_extension": ".py",
   "mimetype": "text/x-python",
   "name": "python",
   "nbconvert_exporter": "python",
   "pygments_lexer": "ipython3",
   "version": "3.11.5"
  }
 },
 "nbformat": 4,
 "nbformat_minor": 2
}
