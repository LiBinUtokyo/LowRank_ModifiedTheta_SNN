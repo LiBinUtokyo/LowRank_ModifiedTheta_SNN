{
 "cells": [
  {
   "cell_type": "markdown",
   "metadata": {},
   "source": [
    "#### Code for introducing Voltage Dependent Theta Neuron Model into Low Rank Connectivity SNNs  \n",
    "Voltage Dependent Theta Neuron Model:  \n"
   ]
  },
  {
   "cell_type": "code",
   "execution_count": 5,
   "metadata": {},
   "outputs": [],
   "source": [
    "import matplotlib.pyplot as plt\n",
    "import numpy as np\n",
    "import os"
   ]
  },
  {
   "cell_type": "code",
   "execution_count": 3,
   "metadata": {},
   "outputs": [],
   "source": [
    "class LowRankSNN:\n",
    "    # CONSTANTS\n",
    "    G_L_E = 0.08\n",
    "    G_L_I = 0.1\n",
    "    G_P= [0.004069, 0.02672, 0.003276, 0.02138] #g_peak:[E←E, E←I, I←E, I←I]\n",
    "    V_T = -55\n",
    "    V_R = -62\n",
    "    REV_E = 0\n",
    "    REV_I = -70\n",
    "    BIAS = V_T - V_R #Bias current\n",
    "    C0 = 2/(V_T-V_R)\n",
    "    C1 = (2*REV_E-V_R-V_T)/(V_T-V_R)\n",
    "    C2 = (2*REV_I-V_R-V_T)/(V_T-V_R)\n",
    "\n",
    "    def __init__(self,N_E=1000,N_I=200,dt=0.01,T=30,RS=10,IS=100,taud_E=2,taud_I=5) -> None:\n",
    "        self.N_E = N_E\n",
    "        self.N_I = N_I\n",
    "        self.dt = dt\n",
    "        self.T = T\n",
    "        self.RS = RS\n",
    "        self.IS = IS\n",
    "        self.taud_E = taud_E\n",
    "        self.taud_I = taud_I\n",
    "        self.added_lowrank = False\n",
    "        self.added_random = False\n",
    "\n",
    "        \n",
    "        pass\n",
    "\n",
    "    def show(self):\n",
    "        pass\n",
    "\n",
    "    def add_random(self):\n",
    "        pass\n",
    "\n",
    "    def remove_random(self):\n",
    "        pass\n",
    "\n",
    "    def add_lowrank(self):\n",
    "        self.added_lowrank = True\n",
    "        pass\n",
    "\n",
    "    def remove_lowrank(self):\n",
    "        self.added_lowrank = False\n",
    "        pass\n",
    "\n",
    "    def V2theta(self,V):\n",
    "        pass\n",
    "\n",
    "    def theta2V(self,theta):\n",
    "        pass\n",
    "\n",
    "    def simulate(self,Input):\n",
    "        pass\n",
    "\n"
   ]
  },
  {
   "cell_type": "code",
   "execution_count": null,
   "metadata": {},
   "outputs": [],
   "source": [
    "# Functions\n"
   ]
  },
  {
   "cell_type": "code",
   "execution_count": null,
   "metadata": {},
   "outputs": [],
   "source": []
  },
  {
   "cell_type": "code",
   "execution_count": 12,
   "metadata": {},
   "outputs": [],
   "source": [
    "# Initialiazation\n",
    "LRSNN = LowRankSNN(N_E=1000,N_I=200,dt=0.01,T=30,RS=10,IS=100,taud_E=2,taud_I=5)\n",
    "\n",
    "\n",
    "\n",
    "#Go_NoGo Task\n",
    "temp = np.random.rand(1,LRSNN.N_E)\n",
    "# print(temp)\n",
    "Sti_go = temp\n",
    "Sti_nogo = temp\n",
    "W_out = temp\n",
    "Sti_go[Sti_go>1/3] = 0\n",
    "Sti_nogo[Sti_nogo<1/3] = 0\n",
    "Sti_nogo[Sti_nogo>2/3] = 0\n",
    "W_out[W_out<2/3] = 0\n",
    "Sti_go[Sti_go!=0] = np.random.gamma(len(np.nonzero(Sti_go)),1,1)\n",
    "Sti_nogo[Sti_nogo!=0] = np.random.gamma(len(np.nonzero(Sti_nogo)),1,1)\n",
    "W_out[W_out!=0] = np.random.gamma(len(np.nonzero(W_out)),1,1)"
   ]
  },
  {
   "cell_type": "code",
   "execution_count": null,
   "metadata": {},
   "outputs": [],
   "source": [
    "# Simulation\n",
    "\n"
   ]
  },
  {
   "cell_type": "code",
   "execution_count": null,
   "metadata": {},
   "outputs": [],
   "source": [
    "# Draw the results"
   ]
  },
  {
   "cell_type": "code",
   "execution_count": 1,
   "metadata": {},
   "outputs": [
    {
     "name": "stdout",
     "output_type": "stream",
     "text": [
      "{'a': 1, 'b': 2}\n"
     ]
    }
   ],
   "source": [
    "print({'a':1,'b':2})"
   ]
  }
 ],
 "metadata": {
  "kernelspec": {
   "display_name": "lipy311",
   "language": "python",
   "name": "python3"
  },
  "language_info": {
   "codemirror_mode": {
    "name": "ipython",
    "version": 3
   },
   "file_extension": ".py",
   "mimetype": "text/x-python",
   "name": "python",
   "nbconvert_exporter": "python",
   "pygments_lexer": "ipython3",
   "version": "3.11.5"
  }
 },
 "nbformat": 4,
 "nbformat_minor": 2
}
