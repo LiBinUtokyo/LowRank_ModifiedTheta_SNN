{
 "cells": [
  {
   "cell_type": "markdown",
   "metadata": {},
   "source": [
    "#### Code for introducing Voltage Dependent Theta Neuron Model into Low Rank Connectivity SNNs  \n"
   ]
  },
  {
   "cell_type": "code",
   "execution_count": 1,
   "metadata": {},
   "outputs": [],
   "source": [
    "import matplotlib.pyplot as plt\n",
    "import numpy as np\n",
    "import os"
   ]
  },
  {
   "cell_type": "code",
   "execution_count": 7,
   "metadata": {},
   "outputs": [],
   "source": [
    "class LowRankSNN:\n",
    "    # CONSTANTS\n",
    "    G_L_E = 0.08\n",
    "    G_L_I = 0.1\n",
    "    G_P= [0.004069, 0.02672, 0.003276, 0.02138] #g_peak:[E←E, E←I, I←E, I←I]\n",
    "    V_T = -55\n",
    "    V_R = -62\n",
    "    REV_E = 0\n",
    "    REV_I = -70\n",
    "    BIAS = V_T - V_R #Bias current\n",
    "    C0 = 2/(V_T-V_R)\n",
    "    C1 = (2*REV_E-V_R-V_T)/(V_T-V_R)\n",
    "    C2 = (2*REV_I-V_R-V_T)/(V_T-V_R)\n",
    "\n",
    "    def __init__(self,N_E=1000,N_I=200,dt=0.01,T=30,RS=10,IS=100,taud_E=2,taud_I=5) -> None:\n",
    "        self.N_E = N_E\n",
    "        self.N_I = N_I\n",
    "        self.dt = dt\n",
    "        self.T = T\n",
    "        self.RS = RS\n",
    "        self.IS = IS\n",
    "        self.taud_E = taud_E\n",
    "        self.taud_I = taud_I\n",
    "        self.conn = np.zeros((N_E+N_I,N_E+N_I))\n",
    "        self.added_lowrank = False\n",
    "        self.added_random = False\n",
    "        \n",
    "\n",
    "    def show(self):\n",
    "        print('Network Settings')\n",
    "        print('==========================================')\n",
    "        print('Number of Neurons: ', self.N_E+self.N_I)\n",
    "        print('Number of Excitatory Units: ', self.N_E)\n",
    "        print('Number of Inhibitory Units: ', self.N_I)\n",
    "        # full_w = torch.mm(self.W, self.mask) #包含兴奋和抑制性信息的连接矩阵\n",
    "        # full_w = self.W * self.mask\n",
    "        zero_w = (self.conn == 0).sum().item()\n",
    "        # pos_w = (self.conn > 0).sum().item()\n",
    "        # neg_w = (full_w < 0 ).sum().item()\n",
    "        print('Zero Weights occupy: %2.2f %%'%(zero_w/(self.N**2)*100))\n",
    "        # print('Positive Weights occupy: %2.2f %%'%(pos_w/(self.N**2)*100))\n",
    "        # print('Negative Weights occupy: %2.2f %%'%(neg_w/(self.N**2)*100))\n",
    "\n",
    "        #如果有随机连接加low-rank连接就把连接矩阵也画出来\n",
    "\n",
    "    def add_random(self,conn_rand):\n",
    "        self.conn_random = conn_rand\n",
    "        self.conn += conn_rand\n",
    "        self.added_random = True\n",
    "        print('Random connection has been added.')\n",
    "        return\n",
    "\n",
    "    def remove_random(self):\n",
    "        if not self.added_random:\n",
    "            print('There is no random connection added.')\n",
    "            return\n",
    "        self.conn -= self.conn_random\n",
    "        del self.conn_random\n",
    "        self.added_random = False\n",
    "        print('Random connection has been removed.')\n",
    "        return\n",
    "\n",
    "    def add_lowrank(self,conn_LR, W_out):\n",
    "        self.conn_lowrank = conn_LR\n",
    "        self.conn += conn_LR\n",
    "        self.W_out = W_out\n",
    "        self.added_lowrank = True\n",
    "        print('Low Rank connection and readout vector have been added.')\n",
    "        return\n",
    "\n",
    "    def remove_lowrank(self):\n",
    "        if not self.added_lowrank:\n",
    "            print('There is no Low Rank Connectivity added.')\n",
    "            return\n",
    "        self.conn -= self.conn_lowrank\n",
    "        del self.conn_lowrank\n",
    "        del self.W_out\n",
    "        self.added_lowrank = False\n",
    "        print('Low Rank connection and readout vector have been removed.')\n",
    "\n",
    "    def V2theta(self,V):\n",
    "        pass\n",
    "\n",
    "    def theta2V(self,theta):\n",
    "        pass\n",
    "\n",
    "    def simulate(self,Input):\n",
    "        pass\n",
    "\n"
   ]
  },
  {
   "cell_type": "code",
   "execution_count": 27,
   "metadata": {},
   "outputs": [],
   "source": [
    "# Functions\n",
    "a=np.random.normal(0,1/1000,(1000,1))\n",
    "b = np.abs(np.random.normal(0,1/1000,(1,1000)))\n",
    "# b = np.random.normal(0,1/1000,(1,1000))\n",
    "c = np.dot(b,a)"
   ]
  },
  {
   "cell_type": "code",
   "execution_count": 8,
   "metadata": {},
   "outputs": [
    {
     "name": "stdout",
     "output_type": "stream",
     "text": [
      "Low Rank connection and readout vector have been added.\n",
      "Random connection has been added.\n"
     ]
    }
   ],
   "source": [
    "# Initialiazation\n",
    "LRSNN = LowRankSNN(N_E=1000,N_I=200,dt=0.01,T=30,RS=10,IS=100,taud_E=2,taud_I=5)\n",
    "\n",
    "# Go_NoGo Task\n",
    "# Prepare the Stimuli and Readout Vector\n",
    "temp = np.random.rand(1,LRSNN.N_E+LRSNN.N_I) #Size (1,N_E) for Sti_go and nogo #这里我想试试把Low Rank加到整个网络上\n",
    "# print(temp)\n",
    "Sti_go = temp.copy()\n",
    "Sti_nogo = temp.copy()\n",
    "W_out = temp.copy()\n",
    "Sti_go[Sti_go>1/3] = 0\n",
    "Sti_nogo[Sti_nogo<1/3] = 0\n",
    "Sti_nogo[Sti_nogo>2/3] = 0\n",
    "W_out[W_out<2/3] = 0\n",
    "# print(np.nonzero(Sti_go)[0])\n",
    "# print(len(np.nonzero(Sti_go)[0]))\n",
    "Sti_go[Sti_go!=0] = np.random.gamma(1,1,len(np.nonzero(Sti_go)[0])) #random.gamma(shape, scale=1.0, size=None),这个地方的Gamma分布及其参数选取需要进一步讨论\n",
    "Sti_nogo[Sti_nogo!=0] = np.random.gamma(1,1,len(np.nonzero(Sti_nogo)[0]))\n",
    "W_out[W_out!=0] = np.random.gamma(1,1,len(np.nonzero(W_out)[0]))\n",
    "W_out = np.transpose(W_out) #Size (N_E,1)\n",
    "# Low Rank Connectivity (Rank = 1)\n",
    "conn_LR = W_out*Sti_go/(LRSNN.N_E+LRSNN.N_I) # 为什么除以神经元总数?\n",
    "# Random Connectivity\n",
    "conn_rand = np.random.gamma(1,1,(LRSNN.N_E+LRSNN.N_I,LRSNN.N_E+LRSNN.N_I)) #这里的Gamma分布取值也需要讨论\n",
    "\n",
    "# Assemble the Network\n",
    "LRSNN.add_lowrank(conn_LR, W_out)\n",
    "LRSNN.add_random(conn_rand)\n",
    "\n",
    "# Show the Network information before simulaiton\n",
    "\n",
    "\n"
   ]
  },
  {
   "cell_type": "code",
   "execution_count": null,
   "metadata": {},
   "outputs": [],
   "source": [
    "# Simulation\n",
    "\n"
   ]
  },
  {
   "cell_type": "code",
   "execution_count": null,
   "metadata": {},
   "outputs": [],
   "source": [
    "# Draw the results"
   ]
  },
  {
   "cell_type": "code",
   "execution_count": 1,
   "metadata": {},
   "outputs": [
    {
     "name": "stdout",
     "output_type": "stream",
     "text": [
      "{'a': 1, 'b': 2}\n"
     ]
    }
   ],
   "source": [
    "print({'a':1,'b':2})"
   ]
  }
 ],
 "metadata": {
  "kernelspec": {
   "display_name": "lipy311",
   "language": "python",
   "name": "python3"
  },
  "language_info": {
   "codemirror_mode": {
    "name": "ipython",
    "version": 3
   },
   "file_extension": ".py",
   "mimetype": "text/x-python",
   "name": "python",
   "nbconvert_exporter": "python",
   "pygments_lexer": "ipython3",
   "version": "3.11.5"
  }
 },
 "nbformat": 4,
 "nbformat_minor": 2
}
